{
  "nbformat": 4,
  "nbformat_minor": 0,
  "metadata": {
    "colab": {
      "name": "Untitled11.ipynb",
      "provenance": [],
      "authorship_tag": "ABX9TyMiNuf7hfnh+1+Q0kSmioOo",
      "include_colab_link": true
    },
    "kernelspec": {
      "name": "python3",
      "display_name": "Python 3"
    },
    "language_info": {
      "name": "python"
    }
  },
  "cells": [
    {
      "cell_type": "markdown",
      "metadata": {
        "id": "view-in-github",
        "colab_type": "text"
      },
      "source": [
        "<a href=\"https://colab.research.google.com/github/DorivalJunior23/Projetos-Python/blob/master/Servidor.ipynb\" target=\"_parent\"><img src=\"https://colab.research.google.com/assets/colab-badge.svg\" alt=\"Open In Colab\"/></a>"
      ]
    },
    {
      "cell_type": "code",
      "execution_count": null,
      "metadata": {
        "id": "l9PUbfhpHGOU"
      },
      "outputs": [],
      "source": [
        "#Servidor\n",
        "from socket import *\n",
        "servidor=\"127.0.0.1\"\n",
        "porta=43210\n",
        "obj_socket = socket(AF_INET, SOCK_DGRAM)\n",
        "obj_socket.bind((servidor,porta))\n",
        "print(\"Servidor pronto....\")\n",
        "while True:\n",
        "  dados, origem = obj_socket.recvfrom(65535)\n",
        "  print(\"Origem..........: \", origem)\n",
        "  print(\"Dados recebidos.: \", dados.decode())\n",
        "  resposta=input(\"Digite a resposta: \")\n",
        "  obj_socket.sendto(resposta.encode(), origem)\n",
        "obj_socket.close()"
      ]
    },
    {
      "cell_type": "code",
      "source": [
        "#Cliente\n",
        "from socket import *\n",
        "servidor=\"127.0.0.1\"\n",
        "porta=43210\n",
        "obj_socket = socket(AF_INET, SOCK_DGRAM)\n",
        "obj_socket.connect((servidor, porta))\n",
        "saida=\"\"\n",
        "while saida!=\"X\":\n",
        "  msg = input(\"Sua mensagem: \")\n",
        "  obj_socket.sendto(msg.encode(), (servidor,porta))\n",
        "  dados, origem = obj_socket.recvfrom(65535)\n",
        "  print(\"Resposta do Servidor: \", dados.decode())\n",
        "  saida=input(\"Digite <X> para sair: \").upper()\n",
        "obj_socket.close()"
      ],
      "metadata": {
        "id": "pvB-5vhAJZ-v"
      },
      "execution_count": null,
      "outputs": []
    }
  ]
}