{
  "nbformat": 4,
  "nbformat_minor": 0,
  "metadata": {
    "colab": {
      "name": "Untitled6.ipynb",
      "provenance": [],
      "collapsed_sections": [],
      "authorship_tag": "ABX9TyMIWtBibdtJUZU6PSSEm1g0",
      "include_colab_link": true
    },
    "kernelspec": {
      "name": "python3",
      "display_name": "Python 3"
    },
    "language_info": {
      "name": "python"
    }
  },
  "cells": [
    {
      "cell_type": "markdown",
      "metadata": {
        "id": "view-in-github",
        "colab_type": "text"
      },
      "source": [
        "<a href=\"https://colab.research.google.com/github/DorivalJunior23/Projetos-Python/blob/master/Registros%20de%20equipametos.ipynb\" target=\"_parent\"><img src=\"https://colab.research.google.com/assets/colab-badge.svg\" alt=\"Open In Colab\"/></a>"
      ]
    },
    {
      "cell_type": "code",
      "execution_count": 29,
      "metadata": {
        "colab": {
          "base_uri": "https://localhost:8080/"
        },
        "id": "2uGz0LLg9sdW",
        "outputId": "d613e048-fb0f-4d5c-c175-f9a92f3cd413"
      },
      "outputs": [
        {
          "name": "stdout",
          "output_type": "stream",
          "text": [
            "Equipamento: Placa de video\n",
            "Valor: 7499.90\n",
            "Quantidade em estoque: 12\n",
            "Número Serial: 1234\n",
            "Departamento: TI\n",
            "Digite \"S\" para continuar: s\n",
            "Equipamento: Memoria ram\n",
            "Valor: 300.99\n",
            "Quantidade em estoque: 35\n",
            "Número Serial: 2134\n",
            "Departamento: TI\n",
            "Digite \"S\" para continuar: S\n",
            "Equipamento: SSD M.2\n",
            "Valor: 499.90\n",
            "Quantidade em estoque: 120\n",
            "Número Serial: 3421\n",
            "Departamento: TI\n",
            "Digite \"S\" para continuar: \n"
          ]
        }
      ],
      "source": [
        "equipamentos = []\n",
        "quantidade = []\n",
        "valores = []\n",
        "seriais = []\n",
        "departamentos = []\n",
        "resposta = \"S\"\n",
        "while resposta == \"S\":\n",
        "  equipamentos.append(input(\"Equipamento: \"))\n",
        "  valores.append(float(input(\"Valor: \")))\n",
        "  quantidade.append(int(input(\"Quantidade em estoque: \")))\n",
        "  seriais.append(int(input(\"Número Serial: \")))\n",
        "  departamentos.append(input(\"Departamento: \"))\n",
        "  resposta = input(\"Digite \\\"S\\\" para continuar: \").upper()\n",
        "\n"
      ]
    },
    {
      "cell_type": "code",
      "source": [
        "for indice in range(0,len(equipamentos)):\n",
        "  print(\"Equipamento..: \", (indice+1))\n",
        "  print(\"Nome.........: \", equipamentos[indice])\n",
        "  print(\"Valor........: \", valores[indice])\n",
        "  print(\"Quantidade...: \", quantidade[indice])\n",
        "  print(\"Serial.......: \", seriais[indice])\n",
        "  print(\"Departamento.: \", departamentos[indice])"
      ],
      "metadata": {
        "colab": {
          "base_uri": "https://localhost:8080/"
        },
        "id": "nPr967MG-TZH",
        "outputId": "ab45fe85-c7fd-416e-bdbc-9427818e5c06"
      },
      "execution_count": 30,
      "outputs": [
        {
          "output_type": "stream",
          "name": "stdout",
          "text": [
            "Equipamento..:  1\n",
            "Nome.........:  Placa de video\n",
            "Valor........:  7499.9\n",
            "Quantidade...:  12\n",
            "Serial.......:  1234\n",
            "Departamento.:  TI\n",
            "Equipamento..:  2\n",
            "Nome.........:  Memoria ram\n",
            "Valor........:  300.99\n",
            "Quantidade...:  35\n",
            "Serial.......:  2134\n",
            "Departamento.:  TI\n",
            "Equipamento..:  3\n",
            "Nome.........:  SSD M.2\n",
            "Valor........:  499.9\n",
            "Quantidade...:  120\n",
            "Serial.......:  3421\n",
            "Departamento.:  TI\n"
          ]
        }
      ]
    },
    {
      "cell_type": "code",
      "source": [
        "depreciacao=input(\"Digite o nome do equipamento que será depreciado: \")\n",
        "porcentagem=int(input(\"Digite a porcentagem a ser depreciada do produto(0 a 100%): \"))\n",
        "for indice in range(0,len(equipamentos)):\n",
        "  if depreciacao==equipamentos[indice]:\n",
        "    print(\"Valor antigo: \", valores[indice])\n",
        "    valores[indice] = valores[indice]-valores[indice] * porcentagem/100\n",
        "    print(\"Novo valor: \", valores[indice])"
      ],
      "metadata": {
        "colab": {
          "base_uri": "https://localhost:8080/"
        },
        "id": "UfxXVBOK-Ft9",
        "outputId": "a68ba877-eb09-4c61-b913-b19b956303c1"
      },
      "execution_count": 31,
      "outputs": [
        {
          "output_type": "stream",
          "name": "stdout",
          "text": [
            "Digite o nome do equipamento que será depreciado: Placa de video\n",
            "Digite a porcentagem a ser depreciada do produto(0 a 100%): 10\n",
            "Valor antigo:  7499.9\n",
            "Novo valor:  6749.91\n"
          ]
        }
      ]
    },
    {
      "cell_type": "code",
      "source": [
        "n=0\n",
        "opicao=input(\"Pressione \\\"P\\\" para retirar o produto pelo numero de serie. \").upper()\n",
        "if opicao==\"P\":\n",
        "  excluir=int(input(\"Digite o numero de serie do equipamento a ser retirado do estoque: \"))\n",
        "  for indice in range(0,len(seriais)):\n",
        "    if excluir==seriais[indice]:\n",
        "      print(\"Nome.........: \", equipamentos[indice])\n",
        "      print(\"Valor........: \", valores[indice])\n",
        "      print(\"Quantidade...: \", quantidade[indice])\n",
        "      print(\"Serial.......: \", seriais[indice])\n",
        "      print(\"Departamento.: \", departamentos[indice])\n",
        "      saida=int(input(\"Digite a quantidade de itens que deseja retirar: \"))\n",
        "      quantidade[indice]=quantidade[indice]-saida\n",
        "      print(\"Quantidade atual: \", quantidade[indice])\n",
        "else:\n",
        "   excluir=input(\"Digite o nome do equipamento a ser retirado do estoque: \")\n",
        "   for indice in range(0,len(equipamentos)):\n",
        "      if excluir==equipamentos[indice]:\n",
        "        print(\"Nome.........: \", equipamentos[indice])\n",
        "        print(\"Valor........: \", valores[indice])\n",
        "        print(\"Quantidade...: \", quantidade[indice])\n",
        "        print(\"Serial.......: \", seriais[indice])\n",
        "        print(\"Departamento.: \", departamentos[indice])\n",
        "        saida=int(input(\"Digite a quantidade de itens que deseja retirar: \"))\n",
        "        quantidade[indice]=quantidade[indice]-saida\n",
        "        print(\"Quantidade atual: \", quantidade[indice])"
      ],
      "metadata": {
        "colab": {
          "base_uri": "https://localhost:8080/"
        },
        "id": "anIi7J-5-bqv",
        "outputId": "0d0e6424-a9bd-4eff-dff9-47d856927b59"
      },
      "execution_count": 32,
      "outputs": [
        {
          "output_type": "stream",
          "name": "stdout",
          "text": [
            "Pressione \"P\" para retirar o produto pelo numero de serie. p\n",
            "Digite o numero de serie do equipamento a ser retirado do estoque: 2134\n",
            "Nome.........:  Memoria ram\n",
            "Valor........:  300.99\n",
            "Quantidade...:  35\n",
            "Serial.......:  2134\n",
            "Departamento.:  TI\n",
            "Digite a quantidade de itens que deseja retirar: 5\n",
            "Quantidade atual:  30\n"
          ]
        }
      ]
    }
  ]
}