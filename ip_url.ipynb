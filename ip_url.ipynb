{
  "nbformat": 4,
  "nbformat_minor": 0,
  "metadata": {
    "colab": {
      "name": "Untitled10.ipynb",
      "provenance": [],
      "authorship_tag": "ABX9TyMuAmVF4UjVNs93mZo4imdq",
      "include_colab_link": true
    },
    "kernelspec": {
      "name": "python3",
      "display_name": "Python 3"
    },
    "language_info": {
      "name": "python"
    }
  },
  "cells": [
    {
      "cell_type": "markdown",
      "metadata": {
        "id": "view-in-github",
        "colab_type": "text"
      },
      "source": [
        "<a href=\"https://colab.research.google.com/github/DorivalJunior23/Projetos-Python/blob/master/ip_url.ipynb\" target=\"_parent\"><img src=\"https://colab.research.google.com/assets/colab-badge.svg\" alt=\"Open In Colab\"/></a>"
      ]
    },
    {
      "cell_type": "code",
      "execution_count": 7,
      "metadata": {
        "colab": {
          "base_uri": "https://localhost:8080/"
        },
        "id": "iom21rFd-zqD",
        "outputId": "1fe6d022-4aff-474c-ede1-7cd8096780a8"
      },
      "outputs": [
        {
          "name": "stdout",
          "output_type": "stream",
          "text": [
            "Digite uma url:www.utfpr.edu.br\n",
            "O ip da url informada é: 200.19.73.48\n",
            "Digite <s> para continuar:s\n",
            "Digite uma url:www.twitch.tv\n",
            "O ip da url informada é: 151.101.42.167\n",
            "Digite <s> para continuar:\n"
          ]
        }
      ],
      "source": [
        "import socket\n",
        "\n",
        "resp = \"S\"\n",
        "while(resp==\"S\"):\n",
        " url=input(\"Digite uma url:\")\n",
        " ip=socket.gethostbyname (url)\n",
        " print(\"O ip da url informada é:\",ip)\n",
        " resp=input(\"Digite <s> para continuar:\").upper()"
      ]
    }
  ]
}