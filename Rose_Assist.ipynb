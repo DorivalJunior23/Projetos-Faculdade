{
  "nbformat": 4,
  "nbformat_minor": 0,
  "metadata": {
    "colab": {
      "provenance": [],
      "collapsed_sections": [],
      "authorship_tag": "ABX9TyPnGXMbee9In+oRKjOg348Y",
      "include_colab_link": true
    },
    "kernelspec": {
      "name": "python3",
      "display_name": "Python 3"
    },
    "language_info": {
      "name": "python"
    }
  },
  "cells": [
    {
      "cell_type": "markdown",
      "metadata": {
        "id": "view-in-github",
        "colab_type": "text"
      },
      "source": [
        "<a href=\"https://colab.research.google.com/github/DorivalJunior23/Projetos-Python/blob/master/Rose_Assist.ipynb\" target=\"_parent\"><img src=\"https://colab.research.google.com/assets/colab-badge.svg\" alt=\"Open In Colab\"/></a>"
      ]
    },
    {
      "cell_type": "code",
      "source": [
        "!apt install libasound2-dev portaudio19-dev libportaudio2 libportaudiocpp0 ffmpeg\n",
        "!pip install PyAudio"
      ],
      "metadata": {
        "id": "zb_uBdqBJ8ac"
      },
      "execution_count": null,
      "outputs": []
    },
    {
      "cell_type": "code",
      "source": [
        "pip install SpeechRecognition"
      ],
      "metadata": {
        "id": "cloWMz--KB35"
      },
      "execution_count": null,
      "outputs": []
    },
    {
      "cell_type": "code",
      "source": [
        "!pip install gTTS"
      ],
      "metadata": {
        "id": "1jRve3rvKEki"
      },
      "execution_count": null,
      "outputs": []
    },
    {
      "cell_type": "code",
      "source": [
        "pip install paho-mqtt\n"
      ],
      "metadata": {
        "id": "i1MwbRf5K3LR"
      },
      "execution_count": null,
      "outputs": []
    },
    {
      "cell_type": "code",
      "execution_count": null,
      "metadata": {
        "id": "YahlIyqJJzYI"
      },
      "outputs": [],
      "source": [
        "from gtts import gTTS\n",
        "import speech_recognition as sr\n",
        "from subprocess import call         # MAC / LINUX\n",
        "#from playsound import playsound    # WINDOWS\n",
        "from requests import get\n",
        "from bs4 import BeautifulSoup\n",
        "import webbrowser as browser\n",
        "from paho.mqtt import publish\n",
        "\n",
        "\n",
        "##### CONFIGURAÇÕES #####\n",
        "hotword = 'rose'\n",
        "\n",
        "with open('rosie-python-assistente-fe02a8d39c53.json') as credenciais_google:\n",
        "    credenciais_google = credenciais_google.read()\n",
        "\n",
        "##### LISTAGEM DOS COMANDOS #####\n",
        "'''\n",
        "NOTÍCIAS                    Últimas notícias\n",
        "TOCA <NOME DO ÁLBUM>        Reproduz o álbum no spotify player web\n",
        "TEMPO AGORA                 Informações sobre temperatura e condição Climática\n",
        "TEMPERATURA HOJE            Informações sobre mínima e máxima\n",
        "LIGA/DESATIVA BUNKER        Controla iluminação do escritório\n",
        "'''\n",
        "\n",
        "##### FUNÇÕES PRINCIPAIS #####\n",
        "\n",
        "def monitora_audio():\n",
        "    microfone = sr.Recognizer()\n",
        "    with sr.Microphone() as source:\n",
        "        while True:\n",
        "            print(\"Aguardando o Comando: \")\n",
        "            audio = microfone.listen(source)\n",
        "            try:\n",
        "                trigger = microfone.recognize_google_cloud(audio, credentials_json=credenciais_google, language='pt-BR')\n",
        "                trigger = trigger.lower()\n",
        "\n",
        "                if hotword in trigger:\n",
        "                    print('COMANDO: ', trigger)\n",
        "                    responde('feedback')\n",
        "                    executa_comandos(trigger)\n",
        "                    break\n",
        "\n",
        "            except sr.UnknownValueError:\n",
        "                print(\"Google not understand audio\")\n",
        "            except sr.RequestError as e:\n",
        "                print(\"Could not request results from Google Cloud Speech service; {0}\".format(e))\n",
        "    return trigger\n",
        "\n",
        "def responde(arquivo):\n",
        "    call(['afplay', 'audios/' + arquivo + '.mp3'])\n",
        "\n",
        "def cria_audio(mensagem):\n",
        "    tts = gTTS(mensagem, lang='pt-br')\n",
        "    tts.save('audios/mensagem.mp3')\n",
        "    print('ROSIE: ', mensagem)\n",
        "    call(['afplay', 'audios/mensagem.mp3'])     # OSX\n",
        "    #call(['aplay', 'audios/mensagem.mp3'])     # LINUX\n",
        "    #playsound('audios/mensagem.mp3')           # WINDOWS\n",
        "\n",
        "\n",
        "def executa_comandos(trigger):\n",
        "\n",
        "    if 'notícias' in trigger:\n",
        "        ultimas_noticias()\n",
        "\n",
        "    elif 'toca' in trigger and 'bee gees' in trigger:\n",
        "        playlists('bee_gees')\n",
        "\n",
        "    elif 'toca' in trigger and 'taylor davis' in trigger:\n",
        "        playlists('taylor_davis')\n",
        "\n",
        "    elif 'tempo agora' in trigger:\n",
        "        previsao_tempo(tempo=True)\n",
        "\n",
        "    elif 'temperatura hoje' in trigger:\n",
        "        previsao_tempo(minmax=True)\n",
        "\n",
        "    elif 'liga o bunker' in trigger:\n",
        "        publica_mqtt('office/iluminacao/status', '1')\n",
        "\n",
        "    elif 'desativa o bunker' in trigger:\n",
        "        publica_mqtt('office/iluminacao/status', '0')\n",
        "\n",
        "    else:\n",
        "        mensagem = trigger.strip(hotword)\n",
        "        cria_audio(mensagem)\n",
        "        print('C. INVÁLIDO', mensagem)\n",
        "        responde('comando_invalido')\n",
        "\n",
        "\n",
        "##### FUNÇÕES COMANDOS #####\n",
        "\n",
        "def ultimas_noticias():\n",
        "    site = get('https://news.google.com/news/rss?ned=pt_br&gl=BR&hl=pt')\n",
        "    noticias = BeautifulSoup(site.text, 'html.parser')\n",
        "    for item in noticias.findAll('item')[:2]:\n",
        "        mensagem = item.title.text\n",
        "        cria_audio(mensagem)\n",
        "\n",
        "def playlists(album):\n",
        "    if album == 'bee_gees':\n",
        "        browser.open('https://open.spotify.com/track/33ALuUDfftTs2NEszyvJRm')\n",
        "    elif album == 'taylor_davis':\n",
        "        browser.open('https://open.spotify.com/track/3MKep4BfEwSlAHuFJrA9aV')\n",
        "\n",
        "def previsao_tempo(tempo=False, minmax=False):\n",
        "    site = get('http://api.openweathermap.org/data/2.5/weather?id=3451190&APPID=111111111111111&units=metric&lang=pt')\n",
        "    clima = site.json()\n",
        "    temperatura=clima['main']['temp']\n",
        "    minima=clima['main']['temp_min']\n",
        "    maxima=clima['main']['temp_max']\n",
        "    descricao=clima['weather'][0]['description']\n",
        "    if tempo:\n",
        "        mensagem = f'No momento fazem {temperatura} graus com: {descricao}'\n",
        "    elif minmax:\n",
        "        mensagem = f'Mínima de {minima} e máxima de {maxima} graus'\n",
        "    cria_audio(mensagem)\n",
        "\n",
        "\n",
        "def publica_mqtt(topic, payload):\n",
        "    publish.single(topic, payload=payload, qos=1, retain=True, hostname='m10.cloudmqtt.com', port=12892, client_id='rosie', auth={'username': 'xxxxxxxx', 'password': 'xxxxxxxx'})\n",
        "    if payload == '1':\n",
        "        mensagem = 'Bunker Ligado!'\n",
        "    elif payload == '0':\n",
        "        mensagem = 'Bunker Desligado!'\n",
        "    cria_audio(mensagem)\n",
        "\n",
        "\n",
        "def main():\n",
        "    while True:\n",
        "        monitora_audio()\n",
        "\n",
        "main()\n",
        "\n"
      ]
    }
  ]
}