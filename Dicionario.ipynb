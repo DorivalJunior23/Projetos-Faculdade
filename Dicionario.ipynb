{
  "nbformat": 4,
  "nbformat_minor": 0,
  "metadata": {
    "colab": {
      "name": "Untitled7.ipynb",
      "provenance": [],
      "authorship_tag": "ABX9TyPJQgxXkqjrPYSo6XMAsgbF",
      "include_colab_link": true
    },
    "kernelspec": {
      "name": "python3",
      "display_name": "Python 3"
    },
    "language_info": {
      "name": "python"
    }
  },
  "cells": [
    {
      "cell_type": "markdown",
      "metadata": {
        "id": "view-in-github",
        "colab_type": "text"
      },
      "source": [
        "<a href=\"https://colab.research.google.com/github/DorivalJunior23/Projetos-Python/blob/master/Dicionario.ipynb\" target=\"_parent\"><img src=\"https://colab.research.google.com/assets/colab-badge.svg\" alt=\"Open In Colab\"/></a>"
      ]
    },
    {
      "cell_type": "code",
      "execution_count": 42,
      "metadata": {
        "id": "9XsdZPbJQ_rI"
      },
      "outputs": [],
      "source": [
        "def perguntar():\n",
        "    resposta = input(\"O que deseja realizar?\\n<I> - Para Inserir um usuário\\n<P> - Para Pesquisar um usuário\\n<E> - Para Excluir um usuário\\n<L> - Para Listar um usuário: \").upper()\n",
        "    return resposta\n"
      ]
    },
    {
      "cell_type": "code",
      "source": [
        "def inserir(dicionario):\n",
        "    dicionario[input(\"Digite o login: \")] = [input(\"Digite o nome: \").upper(),\n",
        "                                          input(\"Digite a última data de acesso: \"),\n",
        "                                          input(\"Qual a última estação acessada: \").upper()]"
      ],
      "metadata": {
        "id": "jGOlUrd3TxOz"
      },
      "execution_count": 43,
      "outputs": []
    },
    {
      "cell_type": "code",
      "source": [
        "def pesquisar(dicionario, busca):\n",
        "    lista=dicionario.get(busca)\n",
        "    if lista!=None:\n",
        "      print(\"Nome............:\" + lista[0])\n",
        "      print(\"Data de acesso..:\" + lista[1])\n",
        "      print(\"Ultima estação..:\" + lista[2])"
      ],
      "metadata": {
        "id": "m6fcnCB3VEq1"
      },
      "execution_count": 44,
      "outputs": []
    },
    {
      "cell_type": "code",
      "source": [
        "def excluir(dicionario, chave):\n",
        "  if dicionario.get(chave)!=None:\n",
        "    del dicionario[chave]\n",
        "    print(\"Objeto Eliminado!\")"
      ],
      "metadata": {
        "id": "6zbhsPwNVFHo"
      },
      "execution_count": 49,
      "outputs": []
    },
    {
      "cell_type": "code",
      "source": [
        "def listar(dicionario):\n",
        "  for chave, valor in dicionario.items():\n",
        "        print(\"Objeto......\")\n",
        "        print(\"Login: \", chave)\n",
        "        print(\"Dados: \", valor)"
      ],
      "metadata": {
        "id": "WqDMPdWLVFb6"
      },
      "execution_count": 46,
      "outputs": []
    },
    {
      "cell_type": "code",
      "source": [
        "usuarios = {}\n",
        "opcao = perguntar()\n",
        "while opcao ==\"I\" or opcao ==\"P\" or opcao ==\"E\" or opcao ==\"L\":\n",
        "    if opcao ==\"I\":\n",
        "      inserir(usuarios)\n",
        "    if opcao == \"P\":\n",
        "      pesquisar(usuarios,input(\"Qual login deseja pesquisar? \"))\n",
        "    if opcao == \"E\":\n",
        "      excluir(usuarios,input(\"Qual login deseja excluir? \"))\n",
        "    if opcao ==\"L\":\n",
        "      listar(usuarios)\n",
        "    opcao = perguntar()"
      ],
      "metadata": {
        "colab": {
          "base_uri": "https://localhost:8080/"
        },
        "id": "rUfuPJNNRJDO",
        "outputId": "473055cb-6167-41c7-bbf8-1bc0c26e6501"
      },
      "execution_count": 50,
      "outputs": [
        {
          "name": "stdout",
          "output_type": "stream",
          "text": [
            "O que deseja realizar?\n",
            "<I> - Para Inserir um usuário\n",
            "<P> - Para Pesquisar um usuário\n",
            "<E> - Para Excluir um usuário\n",
            "<L> - Para Listar um usuário: i\n",
            "Digite o nome: Dorival Junior\n",
            "Digite a última data de acesso: 05/01/2022\n",
            "Qual a última estação acessada: Recep_01\n",
            "Digite o login: Dorival\n",
            "O que deseja realizar?\n",
            "<I> - Para Inserir um usuário\n",
            "<P> - Para Pesquisar um usuário\n",
            "<E> - Para Excluir um usuário\n",
            "<L> - Para Listar um usuário: i\n",
            "Digite o nome: Pedro da Silva\n",
            "Digite a última data de acesso: 24/12/2021\n",
            "Qual a última estação acessada: Recep_02\n",
            "Digite o login: Pedro\n",
            "O que deseja realizar?\n",
            "<I> - Para Inserir um usuário\n",
            "<P> - Para Pesquisar um usuário\n",
            "<E> - Para Excluir um usuário\n",
            "<L> - Para Listar um usuário: p\n",
            "Qual login deseja pesquisar? Dorival\n",
            "Nome............:DORIVAL JUNIOR\n",
            "Data de acesso..:05/01/2022\n",
            "Ultima estação..:RECEP_01\n",
            "O que deseja realizar?\n",
            "<I> - Para Inserir um usuário\n",
            "<P> - Para Pesquisar um usuário\n",
            "<E> - Para Excluir um usuário\n",
            "<L> - Para Listar um usuário: l\n",
            "Objeto......\n",
            "Login:  Dorival\n",
            "Dados:  ['DORIVAL JUNIOR', '05/01/2022', 'RECEP_01']\n",
            "Objeto......\n",
            "Login:  Pedro\n",
            "Dados:  ['PEDRO DA SILVA', '24/12/2021', 'RECEP_02']\n",
            "O que deseja realizar?\n",
            "<I> - Para Inserir um usuário\n",
            "<P> - Para Pesquisar um usuário\n",
            "<E> - Para Excluir um usuário\n",
            "<L> - Para Listar um usuário: e\n",
            "Qual login deseja excluir? Pedro\n",
            "Objeto Eliminado!\n",
            "O que deseja realizar?\n",
            "<I> - Para Inserir um usuário\n",
            "<P> - Para Pesquisar um usuário\n",
            "<E> - Para Excluir um usuário\n",
            "<L> - Para Listar um usuário: l\n",
            "Objeto......\n",
            "Login:  Dorival\n",
            "Dados:  ['DORIVAL JUNIOR', '05/01/2022', 'RECEP_01']\n",
            "O que deseja realizar?\n",
            "<I> - Para Inserir um usuário\n",
            "<P> - Para Pesquisar um usuário\n",
            "<E> - Para Excluir um usuário\n",
            "<L> - Para Listar um usuário: d\n"
          ]
        }
      ]
    }
  ]
}