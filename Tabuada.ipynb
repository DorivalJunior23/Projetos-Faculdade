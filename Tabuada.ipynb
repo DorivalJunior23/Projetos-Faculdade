{
  "nbformat": 4,
  "nbformat_minor": 0,
  "metadata": {
    "colab": {
      "name": "Tabuada.ipynb",
      "provenance": [],
      "collapsed_sections": [],
      "authorship_tag": "ABX9TyNqV91WHjNMBhv1L14ye+Nq",
      "include_colab_link": true
    },
    "kernelspec": {
      "name": "python3",
      "display_name": "Python 3"
    },
    "language_info": {
      "name": "python"
    }
  },
  "cells": [
    {
      "cell_type": "markdown",
      "metadata": {
        "id": "view-in-github",
        "colab_type": "text"
      },
      "source": [
        "<a href=\"https://colab.research.google.com/github/DorivalJunior23/Projetos-Python/blob/master/Tabuada.ipynb\" target=\"_parent\"><img src=\"https://colab.research.google.com/assets/colab-badge.svg\" alt=\"Open In Colab\"/></a>"
      ]
    },
    {
      "cell_type": "code",
      "execution_count": 1,
      "metadata": {
        "id": "4Wi798htnr6s",
        "colab": {
          "base_uri": "https://localhost:8080/"
        },
        "outputId": "8714f71e-1e25-42d4-f8bd-162a0aba0bb8"
      },
      "outputs": [
        {
          "output_type": "stream",
          "name": "stdout",
          "text": [
            "Digite um número para exibir a tabuada: 9\n",
            "Digite até qual número ele deverá ser multiplicado: 36\n",
            "Tabuada do número 9\n",
            "9 x 0 = 0\n",
            "9 x 1 = 9\n",
            "9 x 2 = 18\n",
            "9 x 3 = 27\n",
            "9 x 4 = 36\n",
            "9 x 5 = 45\n",
            "9 x 6 = 54\n",
            "9 x 7 = 63\n",
            "9 x 8 = 72\n",
            "9 x 9 = 81\n",
            "9 x 10 = 90\n",
            "9 x 11 = 99\n",
            "9 x 12 = 108\n",
            "9 x 13 = 117\n",
            "9 x 14 = 126\n",
            "9 x 15 = 135\n",
            "9 x 16 = 144\n",
            "9 x 17 = 153\n",
            "9 x 18 = 162\n",
            "9 x 19 = 171\n",
            "9 x 20 = 180\n",
            "9 x 21 = 189\n",
            "9 x 22 = 198\n",
            "9 x 23 = 207\n",
            "9 x 24 = 216\n",
            "9 x 25 = 225\n",
            "9 x 26 = 234\n",
            "9 x 27 = 243\n",
            "9 x 28 = 252\n",
            "9 x 29 = 261\n",
            "9 x 30 = 270\n",
            "9 x 31 = 279\n",
            "9 x 32 = 288\n",
            "9 x 33 = 297\n",
            "9 x 34 = 306\n",
            "9 x 35 = 315\n",
            "9 x 36 = 324\n"
          ]
        }
      ],
      "source": [
        "tabuada=int(input(\"Digite um número para exibir a tabuada: \"))\n",
        "multiplicador=int(input(\"Digite até qual número ele deverá ser multiplicado: \"))\n",
        "print(\"Tabuada do número\", tabuada)\n",
        "for valor in range(0,multiplicador+1,1):\n",
        "    print(tabuada, \"x\", valor, \"=\", tabuada*valor)"
      ]
    }
  ]
}