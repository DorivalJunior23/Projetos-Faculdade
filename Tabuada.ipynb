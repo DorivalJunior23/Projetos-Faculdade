{
  "nbformat": 4,
  "nbformat_minor": 0,
  "metadata": {
    "colab": {
      "name": "Tabuada.ipynb",
      "provenance": [],
      "collapsed_sections": [],
      "authorship_tag": "ABX9TyPLkqD2oxP6FhrGzPWLGwKQ",
      "include_colab_link": true
    },
    "kernelspec": {
      "name": "python3",
      "display_name": "Python 3"
    },
    "language_info": {
      "name": "python"
    }
  },
  "cells": [
    {
      "cell_type": "markdown",
      "metadata": {
        "id": "view-in-github",
        "colab_type": "text"
      },
      "source": [
        "<a href=\"https://colab.research.google.com/github/DorivalJunior23/Projetos-Python/blob/master/Tabuada.ipynb\" target=\"_parent\"><img src=\"https://colab.research.google.com/assets/colab-badge.svg\" alt=\"Open In Colab\"/></a>"
      ]
    },
    {
      "cell_type": "code",
      "execution_count": null,
      "metadata": {
        "id": "4Wi798htnr6s"
      },
      "outputs": [],
      "source": [
        "tabuada=int(input(\"Digite um número para exibir a tabuada: \"))\n",
        "a=int(input(\"Digite até qual número ele deverá ser multiplicado: \"))\n",
        "print(\"Tabuada do número\", tabuada)\n",
        "for valor in range(0,a+1,1):\n",
        "    print(tabuada, \"x\", valor, \"=\", tabuada*valor)"
      ]
    }
  ]
}