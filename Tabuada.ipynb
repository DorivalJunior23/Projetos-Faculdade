{
  "nbformat": 4,
  "nbformat_minor": 0,
  "metadata": {
    "colab": {
      "name": "Tabuada.ipynb",
      "provenance": [],
      "collapsed_sections": [],
      "authorship_tag": "ABX9TyPLkqD2oxP6FhrGzPWLGwKQ",
      "include_colab_link": true
    },
    "kernelspec": {
      "name": "python3",
      "display_name": "Python 3"
    },
    "language_info": {
      "name": "python"
    }
  },
  "cells": [
    {
      "cell_type": "markdown",
      "metadata": {
        "id": "view-in-github",
        "colab_type": "text"
      },
      "source": [
        "<a href=\"https://colab.research.google.com/github/DorivalJunior23/Projetos-Python/blob/master/Tabuada.ipynb\" target=\"_parent\"><img src=\"https://colab.research.google.com/assets/colab-badge.svg\" alt=\"Open In Colab\"/></a>"
      ]
    },
    {
      "cell_type": "code",
      "execution_count": 21,
      "metadata": {
        "id": "4Wi798htnr6s",
        "outputId": "67ad2112-f37d-4bb4-d838-f4561d3f938e",
        "colab": {
          "base_uri": "https://localhost:8080/"
        }
      },
      "outputs": [
        {
          "output_type": "stream",
          "name": "stdout",
          "text": [
            "Digite um número para exibir a tabuada: 3\n",
            "Digite até qual número ele deverá ser multiplicado: 12\n",
            "Tabuada do número 3\n",
            "3 x 0 = 0\n",
            "3 x 1 = 3\n",
            "3 x 2 = 6\n",
            "3 x 3 = 9\n",
            "3 x 4 = 12\n",
            "3 x 5 = 15\n",
            "3 x 6 = 18\n",
            "3 x 7 = 21\n",
            "3 x 8 = 24\n",
            "3 x 9 = 27\n",
            "3 x 10 = 30\n",
            "3 x 11 = 33\n",
            "3 x 12 = 36\n"
          ]
        }
      ],
      "source": [
        "tabuada=int(input(\"Digite um número para exibir a tabuada: \"))\n",
        "a=int(input(\"Digite até qual número ele deverá ser multiplicado: \"))\n",
        "print(\"Tabuada do número\", tabuada)\n",
        "for valor in range(0,a+1,1):\n",
        "    print(tabuada, \"x\", valor, \"=\", tabuada*valor)"
      ]
    }
  ]
}